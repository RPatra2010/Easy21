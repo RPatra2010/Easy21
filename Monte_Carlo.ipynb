{
  "nbformat": 4,
  "nbformat_minor": 0,
  "metadata": {
    "colab": {
      "name": "Monte Carlo.ipynb",
      "provenance": [],
      "authorship_tag": "ABX9TyOBn+p0wjStv6+JTcxkP8xh",
      "include_colab_link": true
    },
    "kernelspec": {
      "name": "python3",
      "display_name": "Python 3"
    }
  },
  "cells": [
    {
      "cell_type": "markdown",
      "metadata": {
        "id": "view-in-github",
        "colab_type": "text"
      },
      "source": [
        "<a href=\"https://colab.research.google.com/github/RPatra2010/Easy21-RL/blob/master/Monte_Carlo.ipynb\" target=\"_parent\"><img src=\"https://colab.research.google.com/assets/colab-badge.svg\" alt=\"Open In Colab\"/></a>"
      ]
    },
    {
      "cell_type": "code",
      "metadata": {
        "id": "veoSai1siX6N",
        "colab_type": "code",
        "colab": {}
      },
      "source": [
        "#import the required libraries\n",
        "import numpy as np\n",
        "import pandas as pd\n",
        "import matplotlib.pyplot as plt"
      ],
      "execution_count": 0,
      "outputs": []
    },
    {
      "cell_type": "code",
      "metadata": {
        "id": "tic-oREoVy-m",
        "colab_type": "code",
        "outputId": "8a406d53-57e7-47f2-c851-ae24e94b7384",
        "colab": {
          "resources": {
            "http://localhost:8080/nbextensions/google.colab/files.js": {
              "data": "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",
              "ok": true,
              "headers": [
                [
                  "content-type",
                  "application/javascript"
                ]
              ],
              "status": 200,
              "status_text": ""
            }
          },
          "base_uri": "https://localhost:8080/",
          "height": 74
        }
      },
      "source": [
        "from google.colab import files\n",
        "uploaded = files.upload()"
      ],
      "execution_count": 73,
      "outputs": [
        {
          "output_type": "display_data",
          "data": {
            "text/html": [
              "\n",
              "     <input type=\"file\" id=\"files-e946ce6f-5fd2-48a9-9b5c-eda75ad3c1be\" name=\"files[]\" multiple disabled />\n",
              "     <output id=\"result-e946ce6f-5fd2-48a9-9b5c-eda75ad3c1be\">\n",
              "      Upload widget is only available when the cell has been executed in the\n",
              "      current browser session. Please rerun this cell to enable.\n",
              "      </output>\n",
              "      <script src=\"/nbextensions/google.colab/files.js\"></script> "
            ],
            "text/plain": [
              "<IPython.core.display.HTML object>"
            ]
          },
          "metadata": {
            "tags": []
          }
        },
        {
          "output_type": "stream",
          "text": [
            "Saving environment.py to environment.py\n"
          ],
          "name": "stdout"
        }
      ]
    },
    {
      "cell_type": "code",
      "metadata": {
        "id": "-242OydlV22V",
        "colab_type": "code",
        "colab": {}
      },
      "source": [
        "from environment import env\n",
        "e = env()"
      ],
      "execution_count": 0,
      "outputs": []
    },
    {
      "cell_type": "code",
      "metadata": {
        "id": "8zbldJzOV-Re",
        "colab_type": "code",
        "colab": {}
      },
      "source": [
        "#state function aproximation\n",
        "Q = np.zeros((22, 11, len(e.actionSpace())))"
      ],
      "execution_count": 0,
      "outputs": []
    },
    {
      "cell_type": "code",
      "metadata": {
        "id": "_ws-UJLOWUSg",
        "colab_type": "code",
        "colab": {}
      },
      "source": [
        "#number of times the action a has been chosen in a state (p, d)\n",
        "NSA = np.zeros((22, 11, len(e.actionSpace())))\n",
        "\n",
        "#number of times a state has been visited\n",
        "NS = lambda p,d : np.sum(NSA[p, d])\n",
        "\n",
        "#learning rate\n",
        "learning_rate = lambda p, d, a : 1/NSA[p, d, a]\n",
        "\n",
        "#exploration policy\n",
        "epsilon = lambda p, d : N0/(N0 + NS(p, d))"
      ],
      "execution_count": 0,
      "outputs": []
    },
    {
      "cell_type": "code",
      "metadata": {
        "id": "X6sqXm6_WqSQ",
        "colab_type": "code",
        "colab": {}
      },
      "source": [
        "def epsilon_greedy(p, d):\n",
        "    prob = np.random.uniform(0, 1)\n",
        "    if prob < epsilon(p, d):\n",
        "        action = np.random.choice(e.actionSpace())\n",
        "    else:\n",
        "        action = np.argmax([Q[p, d, a] for a in e.actionSpace()])\n",
        "    \n",
        "    return action"
      ],
      "execution_count": 0,
      "outputs": []
    },
    {
      "cell_type": "code",
      "metadata": {
        "id": "0UMZsUZVYTV_",
        "colab_type": "code",
        "outputId": "06ecd697-6ad4-45cc-a94f-43997053410a",
        "colab": {
          "base_uri": "https://localhost:8080/",
          "height": 1000
        }
      },
      "source": [
        "#the main agent env interaction loop\n",
        "\n",
        "episodes = 1000000\n",
        "mean_return = 0\n",
        "wins = 0\n",
        "\n",
        "mean_returns_list = list()\n",
        "wins_list = list()\n",
        "\n",
        "for i in range(episodes):\n",
        "    SAR = list()\n",
        "    sum_rewards = 0\n",
        "    player, dealer = e.startGame()\n",
        "    terminated = False\n",
        "\n",
        "    #sample the environment\n",
        "    while not terminated:\n",
        "        action = epsilon_greedy(player, dealer)\n",
        "\n",
        "        NSA[player, dealer, action] += 1\n",
        "        next_player, next_dealer, reward, terminated = e.step(player, dealer, action)\n",
        "        sum_rewards += reward\n",
        "\n",
        "        SAR.append([player, dealer, action, reward])\n",
        "        player = next_player\n",
        "        dealer = next_dealer\n",
        "\n",
        "    #update the q values\n",
        "    G = sum_rewards\n",
        "\n",
        "    for (p, d, a, _) in SAR:\n",
        "        Q[p, d, a] += learning_rate(p, d, a) * (G - Q[p, d, a])\n",
        "    \n",
        "    mean_return = mean_return + 1/(i+1) * (G - mean_return)\n",
        "    mean_returns_list.append(mean_return)\n",
        "    if reward == 1:\n",
        "        wins += 1\n",
        "    \n",
        "    wins_list.append(wins/(i+1))\n",
        "    \n",
        "    if i % 10000==0:\n",
        "        print(\"Episode\", i+1)\n",
        "        print(\"mean return\", mean_return)\n",
        "        print(\"wins %\", wins/(i+1))"
      ],
      "execution_count": 87,
      "outputs": [
        {
          "output_type": "stream",
          "text": [
            "Episode 1\n",
            "mean return 1.0\n",
            "wins % 1.0\n",
            "Episode 10001\n",
            "mean return 0.01299870012998699\n",
            "wins % 0.49695030496950304\n",
            "Episode 20001\n",
            "mean return 0.0077496125193740155\n",
            "wins % 0.49472526373681314\n",
            "Episode 30001\n",
            "mean return 0.00669977667411085\n",
            "wins % 0.4939168694376854\n",
            "Episode 40001\n",
            "mean return -0.0022249443763906044\n",
            "wins % 0.489612759681008\n",
            "Episode 50001\n",
            "mean return -0.0019799604007920153\n",
            "wins % 0.4899902001959961\n",
            "Episode 60001\n",
            "mean return 0.001766637222712927\n",
            "wins % 0.4918251362477292\n",
            "Episode 70001\n",
            "mean return 0.003199954286367323\n",
            "wins % 0.492621533978086\n",
            "Episode 80001\n",
            "mean return 0.0018999762502968655\n",
            "wins % 0.4919313508581143\n",
            "Episode 90001\n",
            "mean return 0.0011666537038477348\n",
            "wins % 0.491394540060666\n",
            "Episode 100001\n",
            "mean return 0.002629973700263\n",
            "wins % 0.4921450785492145\n",
            "Episode 110001\n",
            "mean return 0.0025817947109571817\n",
            "wins % 0.49207734475141135\n",
            "Episode 120001\n",
            "mean return 0.0026666444446296475\n",
            "wins % 0.49204589961750317\n",
            "Episode 130001\n",
            "mean return 0.002292290059307241\n",
            "wins % 0.49191929292851594\n",
            "Episode 140001\n",
            "mean return 0.0027928371940200564\n",
            "wins % 0.49218934150470356\n",
            "Episode 150001\n",
            "mean return 0.002793314711235277\n",
            "wins % 0.4922033853107646\n",
            "Episode 160001\n",
            "mean return 0.0028999818751132837\n",
            "wins % 0.4922281735739152\n",
            "Episode 170001\n",
            "mean return 0.003129393356509654\n",
            "wins % 0.49231475108969946\n",
            "Episode 180001\n",
            "mean return 0.0038277565124637987\n",
            "wins % 0.4925694857250793\n",
            "Episode 190001\n",
            "mean return 0.0040262945984494815\n",
            "wins % 0.49270793311614147\n",
            "Episode 200001\n",
            "mean return 0.004529977350113232\n",
            "wins % 0.4929075354623227\n",
            "Episode 210001\n",
            "mean return 0.004442835986495295\n",
            "wins % 0.4928500340474569\n",
            "Episode 220001\n",
            "mean return 0.004468161508356783\n",
            "wins % 0.4928295780473725\n",
            "Episode 230001\n",
            "mean return 0.005447802400859142\n",
            "wins % 0.4933239420698171\n",
            "Episode 240001\n",
            "mean return 0.0056333098612089605\n",
            "wins % 0.4934687772134283\n",
            "Episode 250001\n",
            "mean return 0.005299978800084861\n",
            "wins % 0.49330202679189283\n",
            "Episode 260001\n",
            "mean return 0.005580747766354804\n",
            "wins % 0.4933904100368845\n",
            "Episode 270001\n",
            "mean return 0.005488868559746138\n",
            "wins % 0.49334261724956574\n",
            "Episode 280001\n",
            "mean return 0.005089267538330314\n",
            "wins % 0.4931518101721065\n",
            "Episode 290001\n",
            "mean return 0.005431015755118218\n",
            "wins % 0.4933051954993259\n",
            "Episode 300001\n",
            "mean return 0.005969980100066498\n",
            "wins % 0.49361168796104016\n",
            "Episode 310001\n",
            "mean return 0.006219334776339599\n",
            "wins % 0.493772600733546\n",
            "Episode 320001\n",
            "mean return 0.005637482382867749\n",
            "wins % 0.49350158280755374\n",
            "Episode 330001\n",
            "mean return 0.005284832470204849\n",
            "wins % 0.49331668691913055\n",
            "Episode 340001\n",
            "mean return 0.005467630977556148\n",
            "wins % 0.4934397251772789\n",
            "Episode 350001\n",
            "mean return 0.005819983371476278\n",
            "wins % 0.49357287550607\n",
            "Episode 360001\n",
            "mean return 0.006044427654367815\n",
            "wins % 0.493704184155044\n",
            "Episode 370001\n",
            "mean return 0.005767551979589428\n",
            "wins % 0.4935500174323853\n",
            "Episode 380001\n",
            "mean return 0.006086826087299967\n",
            "wins % 0.49370922708098136\n",
            "Episode 390001\n",
            "mean return 0.00611536893495167\n",
            "wins % 0.49372437506570493\n",
            "Episode 400001\n",
            "mean return 0.006277484306289484\n",
            "wins % 0.4938162654593364\n",
            "Episode 410001\n",
            "mean return 0.006019497513420956\n",
            "wins % 0.4937036738934783\n",
            "Episode 420001\n",
            "mean return 0.005897605005702634\n",
            "wins % 0.4936107294982631\n",
            "Episode 430001\n",
            "mean return 0.005802312087646538\n",
            "wins % 0.493545363847991\n",
            "Episode 440001\n",
            "mean return 0.005999986363667561\n",
            "wins % 0.49368978706866573\n",
            "Episode 450001\n",
            "mean return 0.006159986311141715\n",
            "wins % 0.49376112497527785\n",
            "Episode 460001\n",
            "mean return 0.005958682698516094\n",
            "wins % 0.4936771876582877\n",
            "Episode 470001\n",
            "mean return 0.006108497641494606\n",
            "wins % 0.4937478856427965\n",
            "Episode 480001\n",
            "mean return 0.005802071245685156\n",
            "wins % 0.493598971668809\n",
            "Episode 490001\n",
            "mean return 0.005336723802604726\n",
            "wins % 0.49336838088085533\n",
            "Episode 500001\n",
            "mean return 0.005507988984022278\n",
            "wins % 0.49347101305797386\n",
            "Episode 510001\n",
            "mean return 0.005362734582873611\n",
            "wins % 0.4934068756727928\n",
            "Episode 520001\n",
            "mean return 0.005467297178274865\n",
            "wins % 0.493424051107594\n",
            "Episode 530001\n",
            "mean return 0.005475461367054234\n",
            "wins % 0.49341416336950306\n",
            "Episode 540001\n",
            "mean return 0.005392582606328711\n",
            "wins % 0.49339908629798834\n",
            "Episode 550001\n",
            "mean return 0.005185445117372735\n",
            "wins % 0.4932972849140274\n",
            "Episode 560001\n",
            "mean return 0.0052232049585627625\n",
            "wins % 0.493327690486267\n",
            "Episode 570001\n",
            "mean return 0.005484200904910913\n",
            "wins % 0.49346930970296543\n",
            "Episode 580001\n",
            "mean return 0.005531024946508972\n",
            "wins % 0.49351639048898194\n",
            "Episode 590001\n",
            "mean return 0.005942362809554814\n",
            "wins % 0.49372967164462433\n",
            "Episode 600001\n",
            "mean return 0.005963323394461205\n",
            "wins % 0.4937408437652604\n",
            "Episode 610001\n",
            "mean return 0.00581474456599276\n",
            "wins % 0.49368443658289085\n",
            "Episode 620001\n",
            "mean return 0.005601603868381093\n",
            "wins % 0.4935653329591404\n",
            "Episode 630001\n",
            "mean return 0.005617451400870994\n",
            "wins % 0.49357858162129903\n",
            "Episode 640001\n",
            "mean return 0.00553905384522857\n",
            "wins % 0.49354297883909554\n",
            "Episode 650001\n",
            "mean return 0.005250761152675304\n",
            "wins % 0.49342693318933356\n",
            "Episode 660001\n",
            "mean return 0.005593930918286646\n",
            "wins % 0.4936083430176621\n",
            "Episode 670001\n",
            "mean return 0.005455215738484125\n",
            "wins % 0.4935440394865082\n",
            "Episode 680001\n",
            "mean return 0.005460286087814695\n",
            "wins % 0.4935507447783165\n",
            "Episode 690001\n",
            "mean return 0.0050898476958730395\n",
            "wins % 0.49337319800985796\n",
            "Episode 700001\n",
            "mean return 0.005007135704091966\n",
            "wins % 0.49333786666019047\n",
            "Episode 710001\n",
            "mean return 0.004898584649880936\n",
            "wins % 0.49327677003271825\n",
            "Episode 720001\n",
            "mean return 0.004752771176706854\n",
            "wins % 0.4931937594531119\n",
            "Episode 730001\n",
            "mean return 0.004730130506670691\n",
            "wins % 0.49317466688401795\n",
            "Episode 740001\n",
            "mean return 0.004886479883135472\n",
            "wins % 0.4932574415439979\n",
            "Episode 750001\n",
            "mean return 0.004873326835564411\n",
            "wins % 0.49326200898398803\n",
            "Episode 760001\n",
            "mean return 0.004867098859080588\n",
            "wins % 0.49326777201608946\n",
            "Episode 770001\n",
            "mean return 0.004790902868957458\n",
            "wins % 0.49322922957242915\n",
            "Episode 780001\n",
            "mean return 0.004937173157470463\n",
            "wins % 0.49330321371382857\n",
            "Episode 790001\n",
            "mean return 0.005074677120662039\n",
            "wins % 0.4933715273778134\n",
            "Episode 800001\n",
            "mean return 0.004948743814070383\n",
            "wins % 0.4932981333773333\n",
            "Episode 810001\n",
            "mean return 0.004892586552362417\n",
            "wins % 0.4932722305281105\n",
            "Episode 820001\n",
            "mean return 0.004868286745991909\n",
            "wins % 0.4932628130941304\n",
            "Episode 830001\n",
            "mean return 0.005009632518515191\n",
            "wins % 0.4933343453803068\n",
            "Episode 840001\n",
            "mean return 0.004784518113669087\n",
            "wins % 0.4932279842523997\n",
            "Episode 850001\n",
            "mean return 0.004871758974401378\n",
            "wins % 0.4932664785100253\n",
            "Episode 860001\n",
            "mean return 0.004806971154684902\n",
            "wins % 0.49324244971808173\n",
            "Episode 870001\n",
            "mean return 0.00467125899855313\n",
            "wins % 0.49319138713633665\n",
            "Episode 880001\n",
            "mean return 0.004739767341173742\n",
            "wins % 0.4932301213294076\n",
            "Episode 890001\n",
            "mean return 0.00479662382401844\n",
            "wins % 0.49325899633820636\n",
            "Episode 900001\n",
            "mean return 0.004825550193833398\n",
            "wins % 0.49328834079073247\n",
            "Episode 910001\n",
            "mean return 0.004974719808000472\n",
            "wins % 0.49336758970594535\n",
            "Episode 920001\n",
            "mean return 0.004717386176754425\n",
            "wins % 0.4932364203951952\n",
            "Episode 930001\n",
            "mean return 0.004786016359122452\n",
            "wins % 0.49326398573764973\n",
            "Episode 940001\n",
            "mean return 0.004822335295388237\n",
            "wins % 0.4932750071542477\n",
            "Episode 950001\n",
            "mean return 0.004782100229368425\n",
            "wins % 0.4932657965623194\n",
            "Episode 960001\n",
            "mean return 0.0046989534385904145\n",
            "wins % 0.4932203195621671\n",
            "Episode 970001\n",
            "mean return 0.004597933404192578\n",
            "wins % 0.493165470963432\n",
            "Episode 980001\n",
            "mean return 0.00443468935235804\n",
            "wins % 0.4930872519517837\n",
            "Episode 990001\n",
            "mean return 0.004608076153458669\n",
            "wins % 0.49317828971889927\n"
          ],
          "name": "stdout"
        }
      ]
    },
    {
      "cell_type": "code",
      "metadata": {
        "id": "Ty06Uj-ybMBR",
        "colab_type": "code",
        "outputId": "3be6a653-a533-4332-8b36-d6087137322d",
        "colab": {
          "base_uri": "https://localhost:8080/",
          "height": 295
        }
      },
      "source": [
        "plt.plot(mean_returns_list)"
      ],
      "execution_count": 88,
      "outputs": [
        {
          "output_type": "execute_result",
          "data": {
            "text/plain": [
              "[<matplotlib.lines.Line2D at 0x7eff291000f0>]"
            ]
          },
          "metadata": {
            "tags": []
          },
          "execution_count": 88
        },
        {
          "output_type": "display_data",
          "data": {
            "image/png": "[encoded data removed]",
            "text/plain": [
              "<Figure size 432x288 with 1 Axes>"
            ]
          },
          "metadata": {
            "tags": [],
            "needs_background": "light"
          }
        }
      ]
    },
    {
      "cell_type": "code",
      "metadata": {
        "id": "0oHOKbGsjEud",
        "colab_type": "code",
        "outputId": "564bbf25-a900-4f8d-de2f-82ba252650aa",
        "colab": {
          "base_uri": "https://localhost:8080/",
          "height": 295
        }
      },
      "source": [
        "plt.plot(wins_list)"
      ],
      "execution_count": 89,
      "outputs": [
        {
          "output_type": "execute_result",
          "data": {
            "text/plain": [
              "[<matplotlib.lines.Line2D at 0x7eff2908b0b8>]"
            ]
          },
          "metadata": {
            "tags": []
          },
          "execution_count": 89
        },
        {
          "output_type": "display_data",
          "data": {
            "image/png": "[encoded data removed]",
            "text/plain": [
              "<Figure size 432x288 with 1 Axes>"
            ]
          },
          "metadata": {
            "tags": [],
            "needs_background": "light"
          }
        }
      ]
    },
    {
      "cell_type": "code",
      "metadata": {
        "id": "HjBvBX-pjIHS",
        "colab_type": "code",
        "outputId": "678a628c-05bc-45d1-b02b-1ab61c0e2308",
        "colab": {
          "base_uri": "https://localhost:8080/",
          "height": 282
        }
      },
      "source": [
        "plt.plot(wins_list[0:10])"
      ],
      "execution_count": 96,
      "outputs": [
        {
          "output_type": "execute_result",
          "data": {
            "text/plain": [
              "[<matplotlib.lines.Line2D at 0x7eff24e9e3c8>]"
            ]
          },
          "metadata": {
            "tags": []
          },
          "execution_count": 96
        },
        {
          "output_type": "display_data",
          "data": {
            "image/png": "[encoded data removed]",
            "text/plain": [
              "<Figure size 432x288 with 1 Axes>"
            ]
          },
          "metadata": {
            "tags": [],
            "needs_background": "light"
          }
        }
      ]
    },
    {
      "cell_type": "code",
      "metadata": {
        "id": "586wk7EdjP2-",
        "colab_type": "code",
        "colab": {}
      },
      "source": [
        "def plot(Q, actions):\n",
        "\n",
        "    from mpl_toolkits.mplot3d import Axes3D\n",
        "\n",
        "    pRange = list(range(1,22))\n",
        "    dRange = list(range(1,11))\n",
        "    vStar = list()\n",
        "    for p in pRange:\n",
        "        for d in dRange:\n",
        "            q_star = np.max([Q[p, d, a] for a in e.actionSpace()])\n",
        "            vStar.append([p, d, q_star])\n",
        "\n",
        "    df = pd.DataFrame(vStar, columns=['player', 'dealer', 'value'])\n",
        "\n",
        "    # And transform the old column name in something numeric\n",
        "    # df['player']=pd.Categorical(df['player'])\n",
        "    # df['player']=df['player'].cat.codes\n",
        "\n",
        "    # Make the plot\n",
        "    fig = plt.figure()\n",
        "    ax = fig.gca(projection='3d')\n",
        "    ax.plot_trisurf(df['dealer'], df['player'], df['value'], cmap=plt.cm.viridis, linewidth=0.2)\n",
        "    plt.show()\n",
        "\n",
        "    # to Add a color bar which maps values to colors.\n",
        "    surf=ax.plot_trisurf(df['dealer'], df['player'], df['value'], cmap=plt.cm.viridis, linewidth=0.2)\n",
        "    fig.colorbar( surf, shrink=0.5, aspect=5)\n",
        "    plt.show()\n",
        "\n",
        "    # Rotate it\n",
        "    ax.view_init(30, 45)\n",
        "    plt.show()\n",
        "\n",
        "    # Other palette\n",
        "    ax.plot_trisurf(df['dealer'], df['player'], df['value'], cmap=plt.cm.jet, linewidth=0.01)\n",
        "    plt.show()"
      ],
      "execution_count": 0,
      "outputs": []
    },
    {
      "cell_type": "code",
      "metadata": {
        "id": "fzR2jyoZmiD7",
        "colab_type": "code",
        "colab": {}
      },
      "source": [
        "Q[10, 3, 0] = 0"
      ],
      "execution_count": 0,
      "outputs": []
    },
    {
      "cell_type": "code",
      "metadata": {
        "id": "98qe6tSnYC-g",
        "colab_type": "code",
        "colab": {
          "base_uri": "https://localhost:8080/",
          "height": 248
        },
        "outputId": "b1402af0-9ee7-4d22-ac43-488d7a304945"
      },
      "source": [
        "plot(Q, [0, 1])"
      ],
      "execution_count": 113,
      "outputs": [
        {
          "output_type": "display_data",
          "data": {
            "image/png": "[encoded data removed]",
            "text/plain": [
              "<Figure size 432x288 with 1 Axes>"
            ]
          },
          "metadata": {
            "tags": [],
            "needs_background": "light"
          }
        }
      ]
    },
    {
      "cell_type": "code",
      "metadata": {
        "id": "ytkS2lhxYE9X",
        "colab_type": "code",
        "colab": {}
      },
      "source": [
        ""
      ],
      "execution_count": 0,
      "outputs": []
    }
  ]
}