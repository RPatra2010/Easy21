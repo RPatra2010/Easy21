{
  "nbformat": 4,
  "nbformat_minor": 0,
  "metadata": {
    "colab": {
      "name": "Temporal Difference.ipynb",
      "provenance": [],
      "authorship_tag": "ABX9TyPrZoKNqg1J/AJFsHJEG46g",
      "include_colab_link": true
    },
    "kernelspec": {
      "name": "python3",
      "display_name": "Python 3"
    }
  },
  "cells": [
    {
      "cell_type": "markdown",
      "metadata": {
        "id": "view-in-github",
        "colab_type": "text"
      },
      "source": [
        "<a href=\"https://colab.research.google.com/github/RPatra2010/Easy21-RL/blob/master/Temporal_Difference.ipynb\" target=\"_parent\"><img src=\"https://colab.research.google.com/assets/colab-badge.svg\" alt=\"Open In Colab\"/></a>"
      ]
    },
    {
      "cell_type": "code",
      "metadata": {
        "id": "kFEBnh5KrHpE",
        "colab_type": "code",
        "colab": {}
      },
      "source": [
        "import numpy as np\n",
        "import pandas as pd\n",
        "import matplotlib.pyplot as plt"
      ],
      "execution_count": 0,
      "outputs": []
    },
    {
      "cell_type": "code",
      "metadata": {
        "id": "6ws9Jva6raFd",
        "colab_type": "code",
        "colab": {
          "resources": {
            "http://localhost:8080/nbextensions/google.colab/files.js": {
              "data": "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",
              "ok": true,
              "headers": [
                [
                  "content-type",
                  "application/javascript"
                ]
              ],
              "status": 200,
              "status_text": ""
            }
          },
          "base_uri": "https://localhost:8080/",
          "height": 74
        },
        "outputId": "1d1776a8-da06-4d1b-93e6-5e3149d516fb"
      },
      "source": [
        "from google.colab import files\n",
        "uploaded = files.upload()"
      ],
      "execution_count": 2,
      "outputs": [
        {
          "output_type": "display_data",
          "data": {
            "text/html": [
              "\n",
              "     <input type=\"file\" id=\"files-4f4ad6e9-a80a-4c8c-88d5-811c44edf5e3\" name=\"files[]\" multiple disabled />\n",
              "     <output id=\"result-4f4ad6e9-a80a-4c8c-88d5-811c44edf5e3\">\n",
              "      Upload widget is only available when the cell has been executed in the\n",
              "      current browser session. Please rerun this cell to enable.\n",
              "      </output>\n",
              "      <script src=\"/nbextensions/google.colab/files.js\"></script> "
            ],
            "text/plain": [
              "<IPython.core.display.HTML object>"
            ]
          },
          "metadata": {
            "tags": []
          }
        },
        {
          "output_type": "stream",
          "text": [
            "Saving environment.py to environment.py\n"
          ],
          "name": "stdout"
        }
      ]
    },
    {
      "cell_type": "code",
      "metadata": {
        "id": "gnghXYHtreiH",
        "colab_type": "code",
        "colab": {}
      },
      "source": [
        "from environment import env\n",
        "e = env()"
      ],
      "execution_count": 0,
      "outputs": []
    },
    {
      "cell_type": "code",
      "metadata": {
        "id": "VA9ws1LBrmUE",
        "colab_type": "code",
        "colab": {}
      },
      "source": [
        "N0 = 100\n",
        "\n",
        "def reset_space():\n",
        "    #action value function matrix\n",
        "    Q = np.zeros((22, 11, len(e.actionSpace())))\n",
        "    #state-action pair counter\n",
        "    NSA = np.zeros((22, 11, len(e.actionSpace())))\n",
        "    wins = 0\n",
        "    \n",
        "    return Q, NSA, wins\n",
        "\n",
        "Q, NSA, wins = reset_space()"
      ],
      "execution_count": 0,
      "outputs": []
    },
    {
      "cell_type": "code",
      "metadata": {
        "id": "vtYBWTnWsdfk",
        "colab_type": "code",
        "colab": {}
      },
      "source": [
        "#number of times a state has been visited\n",
        "NS = lambda p, d: np.sum(NSA[p, d])\n",
        "\n",
        "#learning rate\n",
        "learning_rate = lambda p, d, a: 1/NSA[p, d, a]\n",
        "\n",
        "#exploration prob\n",
        "epsilon = lambda p, d: N0/(N0 + NS(p, d))"
      ],
      "execution_count": 0,
      "outputs": []
    },
    {
      "cell_type": "code",
      "metadata": {
        "id": "4lyWK6evtH1R",
        "colab_type": "code",
        "colab": {}
      },
      "source": [
        "#exploration policy\n",
        "def epsilon_greedy(p, d):\n",
        "    prob = np.random.uniform(0, 1)\n",
        "    if prob < epsilon(p, d):\n",
        "        action = np.random.choice(e.actionSpace())\n",
        "    else:\n",
        "        action = np.argmax([Q[p, d, a] for a in e.actionSpace()])\n",
        "    \n",
        "    return action"
      ],
      "execution_count": 0,
      "outputs": []
    },
    {
      "cell_type": "code",
      "metadata": {
        "id": "TVc9z3Vc02gG",
        "colab_type": "code",
        "colab": {
          "resources": {
            "http://localhost:8080/nbextensions/google.colab/files.js": {
              "data": "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",
              "ok": true,
              "headers": [
                [
                  "content-type",
                  "application/javascript"
                ]
              ],
              "status": 200,
              "status_text": ""
            }
          },
          "base_uri": "https://localhost:8080/",
          "height": 74
        },
        "outputId": "8671c9d3-341b-427e-8399-bae557fdd2e6"
      },
      "source": [
        "#for the true Q values, we use the Q values after Monte Carlo run for 10000 sims\n",
        "uploaded = files.upload()"
      ],
      "execution_count": 9,
      "outputs": [
        {
          "output_type": "display_data",
          "data": {
            "text/html": [
              "\n",
              "     <input type=\"file\" id=\"files-e4ac8fcd-8548-4dd7-9ffa-bc5e6391d820\" name=\"files[]\" multiple disabled />\n",
              "     <output id=\"result-e4ac8fcd-8548-4dd7-9ffa-bc5e6391d820\">\n",
              "      Upload widget is only available when the cell has been executed in the\n",
              "      current browser session. Please rerun this cell to enable.\n",
              "      </output>\n",
              "      <script src=\"/nbextensions/google.colab/files.js\"></script> "
            ],
            "text/plain": [
              "<IPython.core.display.HTML object>"
            ]
          },
          "metadata": {
            "tags": []
          }
        },
        {
          "output_type": "stream",
          "text": [
            "Saving Q_MC.csv to Q_MC.csv\n"
          ],
          "name": "stdout"
        }
      ]
    },
    {
      "cell_type": "code",
      "metadata": {
        "id": "VsqLxK-F1AR8",
        "colab_type": "code",
        "colab": {}
      },
      "source": [
        "true_Q = np.loadtxt(\"Q_MC.csv\", delimiter = \",\")\n",
        "true_Q = true_Q.reshape(22, 11, 2)"
      ],
      "execution_count": 0,
      "outputs": []
    },
    {
      "cell_type": "code",
      "metadata": {
        "id": "_6EapEP0t7if",
        "colab_type": "code",
        "colab": {
          "base_uri": "https://localhost:8080/",
          "height": 1000
        },
        "outputId": "b4f1d526-10fb-4320-c1d2-a011b8075501"
      },
      "source": [
        "#the main agent env interaction loop\n",
        "episodes = 10000\n",
        "lmbds = list(np.arange(0, 11)/10)\n",
        "\n",
        "mse_lambdas = np.zeros((len(lmbds), int(episodes)))\n",
        "final_mse = np.zeros((len(lmbds)))\n",
        "\n",
        "for li, lmbd in enumerate(lmbds):\n",
        "    Q, NSA, wins = reset_space()\n",
        "\n",
        "    for episode in range(episodes):\n",
        "        terminated = False\n",
        "\n",
        "        #Eligibility trace\n",
        "        E = np.zeros((22, 11, len(e.actionSpace())))\n",
        "        player, dealer = e.startGame()\n",
        "\n",
        "        action = epsilon_greedy(player, dealer)\n",
        "        state_action = []\n",
        "\n",
        "        while not terminated:\n",
        "            next_player, next_dealer, reward, terminated = e.step(player, dealer, action)\n",
        "\n",
        "            if not terminated:\n",
        "                next_action = epsilon_greedy(next_player, next_dealer)\n",
        "                td_error = reward + Q[next_player, next_dealer, next_action] - Q[player, dealer, action]\n",
        "            \n",
        "            else:\n",
        "                td_error = reward - Q[player, dealer, action]\n",
        "            E[player, dealer, action] += 1\n",
        "            NSA[player, dealer, action] += 1\n",
        "\n",
        "            state_action.append([player, dealer, action])\n",
        "\n",
        "            for (p, d, a) in state_action:\n",
        "                Q[p, d, a] += learning_rate(p, d, a) * td_error * E[p, d, a]\n",
        "                E[p, d, a] *= lmbd\n",
        "\n",
        "            if not terminated:\n",
        "                player, dealer, action = next_player, next_dealer, next_action\n",
        "            \n",
        "        if reward == 1:\n",
        "            wins += 1\n",
        "\n",
        "        mse = np.sum(np.square(Q - true_Q)) / (21*10*2)\n",
        "\n",
        "        mse_lambdas[li, episode] = mse\n",
        "\n",
        "        if episode % 1000 == 0:\n",
        "            print(\"lambda ->\", lmbd, \"Episode ->\", episode, \"MSE ->\", mse, \"Wins % ->\", wins/(episode + 1))\n",
        "    \n",
        "    final_mse[li] = mse\n",
        "    print(\"lambda ->\", lmbd, \"Episode ->\", episode, \"MSE ->\", mse, \"Wins % ->\", wins/(episode + 1))\n",
        "    print(\"------------------\")"
      ],
      "execution_count": 20,
      "outputs": [
        {
          "output_type": "stream",
          "text": [
            "lambda -> 0.0 Episode -> 0 MSE -> 0.13166771247609782 Wins % -> 0.0\n",
            "lambda -> 0.0 Episode -> 1000 MSE -> 0.25217010153069475 Wins % -> 0.44555444555444557\n",
            "lambda -> 0.0 Episode -> 2000 MSE -> 0.16908200550661082 Wins % -> 0.4527736131934033\n",
            "lambda -> 0.0 Episode -> 3000 MSE -> 0.1305000060332654 Wins % -> 0.4591802732422526\n",
            "lambda -> 0.0 Episode -> 4000 MSE -> 0.09779617015486185 Wins % -> 0.46138465383654087\n",
            "lambda -> 0.0 Episode -> 5000 MSE -> 0.08383351081222298 Wins % -> 0.4673065386922616\n",
            "lambda -> 0.0 Episode -> 6000 MSE -> 0.065187518779185 Wins % -> 0.4679220129978337\n",
            "lambda -> 0.0 Episode -> 7000 MSE -> 0.059199576406707234 Wins % -> 0.4685044993572347\n",
            "lambda -> 0.0 Episode -> 8000 MSE -> 0.05929876170766101 Wins % -> 0.4718160229971254\n",
            "lambda -> 0.0 Episode -> 9000 MSE -> 0.05724820661570504 Wins % -> 0.4711698700144428\n",
            "lambda -> 0.0 Episode -> 9999 MSE -> 0.05076422045206817 Wins % -> 0.4713\n",
            "------------------\n",
            "lambda -> 0.1 Episode -> 0 MSE -> 0.1298891071951229 Wins % -> 0.0\n",
            "lambda -> 0.1 Episode -> 1000 MSE -> 0.23996437160182169 Wins % -> 0.43756243756243757\n",
            "lambda -> 0.1 Episode -> 2000 MSE -> 0.185599211698484 Wins % -> 0.4432783608195902\n",
            "lambda -> 0.1 Episode -> 3000 MSE -> 0.14056981583638187 Wins % -> 0.4515161612795735\n",
            "lambda -> 0.1 Episode -> 4000 MSE -> 0.11521557170128084 Wins % -> 0.4543864033991502\n",
            "lambda -> 0.1 Episode -> 5000 MSE -> 0.09199940064577647 Wins % -> 0.46270745850829836\n",
            "lambda -> 0.1 Episode -> 6000 MSE -> 0.07975967024212356 Wins % -> 0.464422596233961\n",
            "lambda -> 0.1 Episode -> 7000 MSE -> 0.07003772296509543 Wins % -> 0.46521925439222966\n",
            "lambda -> 0.1 Episode -> 8000 MSE -> 0.058706732779475725 Wins % -> 0.4670666166729159\n",
            "lambda -> 0.1 Episode -> 9000 MSE -> 0.05594908097851435 Wins % -> 0.46561493167425844\n",
            "lambda -> 0.1 Episode -> 9999 MSE -> 0.05389690009741962 Wins % -> 0.4671\n",
            "------------------\n",
            "lambda -> 0.2 Episode -> 0 MSE -> 0.13343321409623524 Wins % -> 0.0\n",
            "lambda -> 0.2 Episode -> 1000 MSE -> 0.22455719903844076 Wins % -> 0.45854145854145856\n",
            "lambda -> 0.2 Episode -> 2000 MSE -> 0.16139349478534804 Wins % -> 0.4572713643178411\n",
            "lambda -> 0.2 Episode -> 3000 MSE -> 0.11434981776676892 Wins % -> 0.4591802732422526\n",
            "lambda -> 0.2 Episode -> 4000 MSE -> 0.08935238408673364 Wins % -> 0.4611347163209198\n",
            "lambda -> 0.2 Episode -> 5000 MSE -> 0.07754548590801338 Wins % -> 0.46850629874025196\n",
            "lambda -> 0.2 Episode -> 6000 MSE -> 0.07007860954252336 Wins % -> 0.47508748541909684\n",
            "lambda -> 0.2 Episode -> 7000 MSE -> 0.06752715604382023 Wins % -> 0.47607484645050707\n",
            "lambda -> 0.2 Episode -> 8000 MSE -> 0.05489543173027266 Wins % -> 0.48181477315335586\n",
            "lambda -> 0.2 Episode -> 9000 MSE -> 0.05069385722386983 Wins % -> 0.483946228196867\n",
            "lambda -> 0.2 Episode -> 9999 MSE -> 0.047720957730459576 Wins % -> 0.4835\n",
            "------------------\n",
            "lambda -> 0.3 Episode -> 0 MSE -> 0.13287515203492445 Wins % -> 1.0\n",
            "lambda -> 0.3 Episode -> 1000 MSE -> 0.2528970756635773 Wins % -> 0.43656343656343655\n",
            "lambda -> 0.3 Episode -> 2000 MSE -> 0.17392947866628605 Wins % -> 0.4482758620689655\n",
            "lambda -> 0.3 Episode -> 3000 MSE -> 0.12423268834079057 Wins % -> 0.44585138287237586\n",
            "lambda -> 0.3 Episode -> 4000 MSE -> 0.1010673129009095 Wins % -> 0.44738815296175954\n",
            "lambda -> 0.3 Episode -> 5000 MSE -> 0.08375466168488828 Wins % -> 0.45190961807638474\n",
            "lambda -> 0.3 Episode -> 6000 MSE -> 0.07608515276411955 Wins % -> 0.4567572071321446\n",
            "lambda -> 0.3 Episode -> 7000 MSE -> 0.0650460941113929 Wins % -> 0.4625053563776603\n",
            "lambda -> 0.3 Episode -> 8000 MSE -> 0.057922376424201026 Wins % -> 0.466941632295963\n",
            "lambda -> 0.3 Episode -> 9000 MSE -> 0.05631607479357595 Wins % -> 0.46994778357960226\n",
            "lambda -> 0.3 Episode -> 9999 MSE -> 0.052810680922265874 Wins % -> 0.4725\n",
            "------------------\n",
            "lambda -> 0.4 Episode -> 0 MSE -> 0.13169348466216257 Wins % -> 0.0\n",
            "lambda -> 0.4 Episode -> 1000 MSE -> 0.2633808376131333 Wins % -> 0.4565434565434565\n",
            "lambda -> 0.4 Episode -> 2000 MSE -> 0.1849330654682459 Wins % -> 0.4522738630684658\n",
            "lambda -> 0.4 Episode -> 3000 MSE -> 0.13189720491608592 Wins % -> 0.45451516161279576\n",
            "lambda -> 0.4 Episode -> 4000 MSE -> 0.09228283161055101 Wins % -> 0.45688577855536117\n",
            "lambda -> 0.4 Episode -> 5000 MSE -> 0.0706528875789022 Wins % -> 0.45610877824435114\n",
            "lambda -> 0.4 Episode -> 6000 MSE -> 0.06187065377857958 Wins % -> 0.4614230961506416\n",
            "lambda -> 0.4 Episode -> 7000 MSE -> 0.05364889263513687 Wins % -> 0.46421939722896727\n",
            "lambda -> 0.4 Episode -> 8000 MSE -> 0.04734928385973661 Wins % -> 0.4670666166729159\n",
            "lambda -> 0.4 Episode -> 9000 MSE -> 0.04502832614559371 Wins % -> 0.46705921564270636\n",
            "lambda -> 0.4 Episode -> 9999 MSE -> 0.042865491581466054 Wins % -> 0.4703\n",
            "------------------\n",
            "lambda -> 0.5 Episode -> 0 MSE -> 0.13171997251379475 Wins % -> 0.0\n",
            "lambda -> 0.5 Episode -> 1000 MSE -> 0.2450632764657208 Wins % -> 0.4385614385614386\n",
            "lambda -> 0.5 Episode -> 2000 MSE -> 0.19116224546343982 Wins % -> 0.44377811094452774\n",
            "lambda -> 0.5 Episode -> 3000 MSE -> 0.1610184559746561 Wins % -> 0.45518160613128955\n",
            "lambda -> 0.5 Episode -> 4000 MSE -> 0.11759707429863453 Wins % -> 0.4528867783054236\n",
            "lambda -> 0.5 Episode -> 5000 MSE -> 0.10400521289357997 Wins % -> 0.45930813837232554\n",
            "lambda -> 0.5 Episode -> 6000 MSE -> 0.09204026830261192 Wins % -> 0.4622562906182303\n",
            "lambda -> 0.5 Episode -> 7000 MSE -> 0.07774103441513028 Wins % -> 0.46621911155549206\n",
            "lambda -> 0.5 Episode -> 8000 MSE -> 0.06720294618845447 Wins % -> 0.4675665541807274\n",
            "lambda -> 0.5 Episode -> 9000 MSE -> 0.0648222305349308 Wins % -> 0.46739251194311743\n",
            "lambda -> 0.5 Episode -> 9999 MSE -> 0.05431406446102147 Wins % -> 0.4692\n",
            "------------------\n",
            "lambda -> 0.6 Episode -> 0 MSE -> 0.13072925057040335 Wins % -> 0.0\n",
            "lambda -> 0.6 Episode -> 1000 MSE -> 0.283832745992154 Wins % -> 0.46053946053946054\n",
            "lambda -> 0.6 Episode -> 2000 MSE -> 0.18348979166618137 Wins % -> 0.4732633683158421\n",
            "lambda -> 0.6 Episode -> 3000 MSE -> 0.12969718956331905 Wins % -> 0.4668443852049317\n",
            "lambda -> 0.6 Episode -> 4000 MSE -> 0.10577411147984721 Wins % -> 0.46613346663334165\n",
            "lambda -> 0.6 Episode -> 5000 MSE -> 0.09109768862643766 Wins % -> 0.46810637872425515\n",
            "lambda -> 0.6 Episode -> 6000 MSE -> 0.07722921577692198 Wins % -> 0.46775537410431595\n",
            "lambda -> 0.6 Episode -> 7000 MSE -> 0.07113716874436964 Wins % -> 0.46236251964005143\n",
            "lambda -> 0.6 Episode -> 8000 MSE -> 0.06433286220194573 Wins % -> 0.4643169603799525\n",
            "lambda -> 0.6 Episode -> 9000 MSE -> 0.05745503152407333 Wins % -> 0.47283635151649817\n",
            "lambda -> 0.6 Episode -> 9999 MSE -> 0.05430934671947053 Wins % -> 0.4724\n",
            "------------------\n",
            "lambda -> 0.7 Episode -> 0 MSE -> 0.13046666296565604 Wins % -> 0.0\n",
            "lambda -> 0.7 Episode -> 1000 MSE -> 0.29819716333735463 Wins % -> 0.44755244755244755\n",
            "lambda -> 0.7 Episode -> 2000 MSE -> 0.19403109151884274 Wins % -> 0.4542728635682159\n",
            "lambda -> 0.7 Episode -> 3000 MSE -> 0.14577764868561816 Wins % -> 0.4605131622792403\n",
            "lambda -> 0.7 Episode -> 4000 MSE -> 0.10589521916242108 Wins % -> 0.4651337165708573\n",
            "lambda -> 0.7 Episode -> 5000 MSE -> 0.09580002568778664 Wins % -> 0.46350729854029193\n",
            "lambda -> 0.7 Episode -> 6000 MSE -> 0.08614858849814895 Wins % -> 0.46625562406265625\n",
            "lambda -> 0.7 Episode -> 7000 MSE -> 0.07796948983050014 Wins % -> 0.467933152406799\n",
            "lambda -> 0.7 Episode -> 8000 MSE -> 0.06594613940130183 Wins % -> 0.46794150731158607\n",
            "lambda -> 0.7 Episode -> 9000 MSE -> 0.0611797399623262 Wins % -> 0.47183646261526496\n",
            "lambda -> 0.7 Episode -> 9999 MSE -> 0.052780168840746024 Wins % -> 0.4754\n",
            "------------------\n",
            "lambda -> 0.8 Episode -> 0 MSE -> 0.13168806790509113 Wins % -> 1.0\n",
            "lambda -> 0.8 Episode -> 1000 MSE -> 0.30856985919481666 Wins % -> 0.43756243756243757\n",
            "lambda -> 0.8 Episode -> 2000 MSE -> 0.20916012291168667 Wins % -> 0.4497751124437781\n",
            "lambda -> 0.8 Episode -> 3000 MSE -> 0.17238630369701527 Wins % -> 0.4548483838720426\n",
            "lambda -> 0.8 Episode -> 4000 MSE -> 0.1352064691432313 Wins % -> 0.4646338415396151\n",
            "lambda -> 0.8 Episode -> 5000 MSE -> 0.10032995242109506 Wins % -> 0.46630673865226957\n",
            "lambda -> 0.8 Episode -> 6000 MSE -> 0.09036706140302946 Wins % -> 0.46908848525245794\n",
            "lambda -> 0.8 Episode -> 7000 MSE -> 0.07641885646069792 Wins % -> 0.469647193258106\n",
            "lambda -> 0.8 Episode -> 8000 MSE -> 0.06950548085570712 Wins % -> 0.4718160229971254\n",
            "lambda -> 0.8 Episode -> 9000 MSE -> 0.06407165369424056 Wins % -> 0.47316964781690923\n",
            "lambda -> 0.8 Episode -> 9999 MSE -> 0.06066068603844883 Wins % -> 0.4757\n",
            "------------------\n",
            "lambda -> 0.9 Episode -> 0 MSE -> 0.13258542670310472 Wins % -> 0.0\n",
            "lambda -> 0.9 Episode -> 1000 MSE -> 0.2896372415719451 Wins % -> 0.42857142857142855\n",
            "lambda -> 0.9 Episode -> 2000 MSE -> 0.20626943076185567 Wins % -> 0.440279860069965\n",
            "lambda -> 0.9 Episode -> 3000 MSE -> 0.15748043954205498 Wins % -> 0.4501832722425858\n",
            "lambda -> 0.9 Episode -> 4000 MSE -> 0.12501979765663898 Wins % -> 0.45313671582104476\n",
            "lambda -> 0.9 Episode -> 5000 MSE -> 0.09155100700457729 Wins % -> 0.46010797840431916\n",
            "lambda -> 0.9 Episode -> 6000 MSE -> 0.07825957919921385 Wins % -> 0.46075654057657056\n",
            "lambda -> 0.9 Episode -> 7000 MSE -> 0.07328319037786263 Wins % -> 0.4617911726896158\n",
            "lambda -> 0.9 Episode -> 8000 MSE -> 0.06587128562236079 Wins % -> 0.46444194475690537\n",
            "lambda -> 0.9 Episode -> 9000 MSE -> 0.06036900530806853 Wins % -> 0.4648372403066326\n",
            "lambda -> 0.9 Episode -> 9999 MSE -> 0.05854820675087099 Wins % -> 0.4675\n",
            "------------------\n",
            "lambda -> 1.0 Episode -> 0 MSE -> 0.13138709113665295 Wins % -> 1.0\n",
            "lambda -> 1.0 Episode -> 1000 MSE -> 0.369997958116913 Wins % -> 0.41058941058941056\n",
            "lambda -> 1.0 Episode -> 2000 MSE -> 0.25063249672378246 Wins % -> 0.42828585707146427\n",
            "lambda -> 1.0 Episode -> 3000 MSE -> 0.16165850875642024 Wins % -> 0.4391869376874375\n",
            "lambda -> 1.0 Episode -> 4000 MSE -> 0.12334511666938752 Wins % -> 0.445888527868033\n",
            "lambda -> 1.0 Episode -> 5000 MSE -> 0.09766908380590582 Wins % -> 0.44631073785242953\n",
            "lambda -> 1.0 Episode -> 6000 MSE -> 0.08487902550433832 Wins % -> 0.44875854024329276\n",
            "lambda -> 1.0 Episode -> 7000 MSE -> 0.07750245819713282 Wins % -> 0.45293529495786317\n",
            "lambda -> 1.0 Episode -> 8000 MSE -> 0.07224773653262019 Wins % -> 0.45431821022372204\n",
            "lambda -> 1.0 Episode -> 9000 MSE -> 0.06619556524820501 Wins % -> 0.4567270303299633\n",
            "lambda -> 1.0 Episode -> 9999 MSE -> 0.062429570309524084 Wins % -> 0.4586\n",
            "------------------\n"
          ],
          "name": "stdout"
        }
      ]
    },
    {
      "cell_type": "code",
      "metadata": {
        "id": "-gQvRxSl2g4z",
        "colab_type": "code",
        "colab": {
          "base_uri": "https://localhost:8080/",
          "height": 295
        },
        "outputId": "5d8fcb9d-2cee-450e-8b17-d78fb5729445"
      },
      "source": [
        "#plot the MSE of different lambdas\n",
        "plt.plot(lmbds, final_mse)\n",
        "plt.xlabel(\"Lambda\")\n",
        "plt.ylabel(\"MSE\")\n",
        "plt.title(\"MSE per lambda\")\n",
        "plt.show()"
      ],
      "execution_count": 22,
      "outputs": [
        {
          "output_type": "display_data",
          "data": {
            "image/png": "[encoded data removed]",
            "text/plain": [
              "<Figure size 432x288 with 1 Axes>"
            ]
          },
          "metadata": {
            "tags": [],
            "needs_background": "light"
          }
        }
      ]
    },
    {
      "cell_type": "code",
      "metadata": {
        "id": "tOJzDGD14Zgw",
        "colab_type": "code",
        "colab": {}
      },
      "source": [
        ""
      ],
      "execution_count": 0,
      "outputs": []
    }
  ]
}